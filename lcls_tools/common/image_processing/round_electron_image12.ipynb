{
 "cells": [
  {
   "cell_type": "code",
   "execution_count": 17,
   "id": "ad4fbe3c-c0d0-4137-9505-e39ac4f1cbde",
   "metadata": {},
   "outputs": [],
   "source": [
    "import numpy as np\n",
    "import scipy as sc\n",
    "import scipy.ndimage as snd\n",
    "from scipy.optimize import curve_fit\n",
    "from scipy import asarray\n",
    "import matplotlib.pyplot as plt\n",
    "import scipy.io as sio\n",
    "import image_processing as ip\n",
    "from mat_image import MatImage"
   ]
  },
  {
   "cell_type": "code",
   "execution_count": 10,
   "id": "de35b6a0-9da7-4a93-a3cd-5e8d003b48e1",
   "metadata": {},
   "outputs": [
    {
     "data": {
      "text/plain": [
       "array([[ 77,  75,  79, ...,   0,   0,   0],\n",
       "       [ 80,  72,  77, ...,   0,   0,   0],\n",
       "       [102, 137,  94, ...,   0,   0,   0],\n",
       "       ...,\n",
       "       [ 70,  73,  83, ...,   0,   0,   0],\n",
       "       [ 78,  73,  78, ...,   0,   0,   0],\n",
       "       [ 76,  80,  76, ...,   0,   0,   0]], dtype=uint16)"
      ]
     },
     "execution_count": 10,
     "metadata": {},
     "output_type": "execute_result"
    }
   ],
   "source": [
    "mat_file = 'test_image_electron.mat'\n",
    "data = sio.loadmat(mat_file)['data'][0][0]\n",
    "(data[1])"
   ]
  },
  {
   "cell_type": "code",
   "execution_count": 11,
   "id": "606dcbdf-15bb-46ec-8c87-40075b052d32",
   "metadata": {},
   "outputs": [
    {
     "data": {
      "image/png": "[encoded data removed]",
      "text/plain": [
       "<Figure size 432x288 with 1 Axes>"
      ]
     },
     "metadata": {
      "needs_background": "light"
     },
     "output_type": "display_data"
    }
   ],
   "source": [
    "c = plt.imshow(data[1])"
   ]
  },
  {
   "cell_type": "code",
   "execution_count": 12,
   "id": "9ff60fe5-a78a-4bba-b003-f30319aed85c",
   "metadata": {},
   "outputs": [
    {
     "data": {
      "text/plain": [
       "(1040, 1392)"
      ]
     },
     "execution_count": 12,
     "metadata": {},
     "output_type": "execute_result"
    }
   ],
   "source": [
    "data[1].shape"
   ]
  },
  {
   "cell_type": "code",
   "execution_count": 19,
   "id": "8b70a4b3-794a-4ad9-baaf-8b541f284b32",
   "metadata": {},
   "outputs": [],
   "source": [
    "MI = MatImage()\n",
    "FILE = './test_image_electron.mat'\n",
    "MI.load_mat_image(FILE)\n",
    "x_proj = ip.x_projection(MI.image)"
   ]
  },
  {
   "cell_type": "code",
   "execution_count": 23,
   "id": "183f8f07-d2b3-409d-9339-5f908ad44d99",
   "metadata": {},
   "outputs": [],
   "source": [
    "_, a_x, x0_x, sigma_x = ip.gauss_fit(x_proj)"
   ]
  },
  {
   "cell_type": "code",
   "execution_count": 24,
   "id": "12ef1eae-760d-4c0d-b46a-d607585640a7",
   "metadata": {},
   "outputs": [
    {
     "name": "stdout",
     "output_type": "stream",
     "text": [
      "152483.4622152861\n"
     ]
    }
   ],
   "source": [
    "print(a_x)"
   ]
  },
  {
   "cell_type": "code",
   "execution_count": 27,
   "id": "2c2d3761-8b4b-4af1-8b65-dbded3719c0b",
   "metadata": {},
   "outputs": [],
   "source": [
    "y_proj = ip.y_projection(MI.image)\n",
    "_, a_y, y0_y, sigma_y = ip.gauss_fit(y_proj)"
   ]
  },
  {
   "cell_type": "code",
   "execution_count": 28,
   "id": "ee7d3cb3-9295-4e44-a511-6fe27365fead",
   "metadata": {},
   "outputs": [
    {
     "name": "stdout",
     "output_type": "stream",
     "text": [
      "187259.86846389115\n"
     ]
    }
   ],
   "source": [
    "print(a_y)"
   ]
  },
  {
   "cell_type": "code",
   "execution_count": null,
   "id": "3efb86c7-b96c-4f46-8c55-b95f8d74f458",
   "metadata": {},
   "outputs": [],
   "source": []
  }
 ],
 "metadata": {
  "kernelspec": {
   "display_name": "Python 3 (ipykernel)",
   "language": "python",
   "name": "python3"
  },
  "language_info": {
   "codemirror_mode": {
    "name": "ipython",
    "version": 3
   },
   "file_extension": ".py",
   "mimetype": "text/x-python",
   "name": "python",
   "nbconvert_exporter": "python",
   "pygments_lexer": "ipython3",
   "version": "3.9.12"
  }
 },
 "nbformat": 4,
 "nbformat_minor": 5
}
